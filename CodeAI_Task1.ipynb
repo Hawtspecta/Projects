{
  "cells": [
    {
      "cell_type": "markdown",
      "metadata": {
        "id": "view-in-github",
        "colab_type": "text"
      },
      "source": [
        "<a href=\"https://colab.research.google.com/github/Hawtspecta/Projects/blob/main/CodeAI_Task1.ipynb\" target=\"_parent\"><img src=\"https://colab.research.google.com/assets/colab-badge.svg\" alt=\"Open In Colab\"/></a>"
      ]
    },
    {
      "cell_type": "markdown",
      "metadata": {
        "id": "RBNeAaOLxbe5"
      },
      "source": [
        "### 1. Python Basics & Control Structures\n",
        "\n",
        "*Task*:\n",
        "\n",
        "* Write a Python program that:\n",
        "\n",
        "  * Takes a list of strings (e.g., [\"apple\", \"banana\", \"grape\", \"kiwi\", \"orange\"]).\n",
        "  * Filters out fruits with more than 5 characters using a for loop and if statement.\n",
        "  * For each fruit, print its length.\n",
        "\n",
        "*Example Input*:\n",
        "\n",
        "python\n",
        "fruits = [\"apple\", \"banana\", \"grape\", \"kiwi\", \"orange\"]"
      ]
    },
    {
      "cell_type": "code",
      "execution_count": null,
      "metadata": {
        "colab": {
          "base_uri": "https://localhost:8080/"
        },
        "id": "NcI_p7F0vFhz",
        "outputId": "66d2277e-8c35-4b4a-97a5-8046e08a33cf"
      },
      "outputs": [
        {
          "name": "stdout",
          "output_type": "stream",
          "text": [
            "Enter the fruits: apple banana orange mango\n",
            "The fruit  apple  has  5  characters\n",
            "The fruit  mango  has  5  characters\n"
          ]
        }
      ],
      "source": [
        "fruitsip = input(\"Enter the fruits: \")\n",
        "fruits=fruitsip.split(\" \")\n",
        "\n",
        "for fruit in fruits:\n",
        "  if len(fruit)>5:\n",
        "    fruits.remove(fruit)\n",
        "  else:\n",
        "    print(\"The fruit \",fruit,\" has \", len(fruit),\" characters\")"
      ]
    },
    {
      "cell_type": "markdown",
      "metadata": {
        "id": "sQeiBzi9xjIl"
      },
      "source": [
        "\n",
        "*Expected Output*:\n",
        "\n",
        "\n",
        "The fruit apple has 5 characters.\n",
        "\n",
        "The fruit banana has 6 characters.\n",
        "\n",
        "The fruit orange has 6 characters.\n"
      ]
    },
    {
      "cell_type": "markdown",
      "metadata": {
        "id": "k12WGkNoyAgY"
      },
      "source": [
        "### 2. Functions & Lambda\n",
        "\n",
        "*Task*:\n",
        "\n",
        "* Write a function that takes a list of integers and a threshold value. Use a **lambda* function inside filter() to return a list of numbers greater than the threshold.\n",
        "\n",
        "\n",
        "  # Test the function with a list [1, 5, 10, 3, 8] and threshold 5\n",
        "\n",
        "\n",
        "\n",
        "\n"
      ]
    },
    {
      "cell_type": "code",
      "execution_count": null,
      "metadata": {
        "colab": {
          "base_uri": "https://localhost:8080/"
        },
        "id": "xSLokk2iy1OQ",
        "outputId": "da269873-e0c5-4bc6-df8e-65339e28f395"
      },
      "outputs": [
        {
          "name": "stdout",
          "output_type": "stream",
          "text": [
            "[10, 8]\n"
          ]
        }
      ],
      "source": [
        "def num(numbers, threshold):\n",
        "  return list(filter(lambda x: x > threshold, numbers))\n",
        "\n",
        "numbers = [1, 5, 10, 3, 8]\n",
        "threshold = 5\n",
        "filtered_list = num(numbers, threshold)\n",
        "print(filtered_list)"
      ]
    },
    {
      "cell_type": "markdown",
      "metadata": {
        "id": "qFz4IBidxuK8"
      },
      "source": [
        "### 3. Object-Oriented Programming (OOP)\n",
        "\n",
        "*Task*:\n",
        "\n",
        "* Implement a BankAccount class with methods for depositing, withdrawing, transferring, and checking balance.\n",
        "* Implement *Polymorphism* by overriding the __str__ method to provide a custom string representation of the account.\n",
        "\n",
        "\n",
        "# Example\n",
        "account_a = BankAccount(\"A123\", \"Alice\", 1000)\n",
        "\n",
        "account_b = BankAccount(\"B456\", \"Bob\", 500)\n",
        "\n",
        "account_a.deposit(200)\n",
        "\n",
        "account_a.transfer(300, account_b)\n"
      ]
    },
    {
      "cell_type": "code",
      "execution_count": null,
      "metadata": {
        "colab": {
          "base_uri": "https://localhost:8080/"
        },
        "id": "nkl25hP8zWJQ",
        "outputId": "7e2fbc2b-2428-4773-eb55-5a5ad71eee41"
      },
      "outputs": [
        {
          "name": "stdout",
          "output_type": "stream",
          "text": [
            "Deposit of 200 successful. New balance: 1200\n",
            "Transfer of 300 to account B456 successful.\n",
            "Your new balance: 900\n",
            "Bob's new balance: 800\n",
            "Account balance for Alice: 900\n",
            "Account balance for Bob: 800\n",
            "Account Number: A123, Account Holder: Alice, Balance: 900\n",
            "Account Number: B456, Account Holder: Bob, Balance: 800\n"
          ]
        }
      ],
      "source": [
        "class BankAccount:\n",
        "    def __init__(self, account_number, account_holder, initial_balance=0):\n",
        "        self.account_number = account_number\n",
        "        self.account_holder = account_holder\n",
        "        self.balance = initial_balance\n",
        "\n",
        "    def deposit(self, amount):\n",
        "        if amount > 0:\n",
        "            self.balance += amount\n",
        "            print(f\"Deposit of {amount} successful. New balance: {self.balance}\")\n",
        "        else:\n",
        "            print(\"Deposit amount must be positive.\")\n",
        "\n",
        "    def withdraw(self, amount):\n",
        "        if amount > 0:\n",
        "            if self.balance >= amount:\n",
        "                self.balance -= amount\n",
        "                print(f\"Withdrawal of {amount} successful. New balance: {self.balance}\")\n",
        "            else:\n",
        "                print(\"Insufficient funds.\")\n",
        "        else:\n",
        "            print(\"Withdrawal amount must be positive.\")\n",
        "\n",
        "    def transfer(self, amount, target_account):\n",
        "        if amount > 0:\n",
        "            if self.balance >= amount:\n",
        "                self.balance -= amount\n",
        "                target_account.balance += amount\n",
        "                print(f\"Transfer of {amount} to account {target_account.account_number} successful.\")\n",
        "                print(f\"Your new balance: {self.balance}\")\n",
        "                print(f\"{target_account.account_holder}'s new balance: {target_account.balance}\")\n",
        "            else:\n",
        "                print(\"Insufficient funds for transfer.\")\n",
        "        else:\n",
        "            print(\"Transfer amount must be positive.\")\n",
        "\n",
        "    def check_balance(self):\n",
        "        print(f\"Account balance for {self.account_holder}: {self.balance}\")\n",
        "\n",
        "    def __str__(self):\n",
        "        return f\"Account Number: {self.account_number}, Account Holder: {self.account_holder}, Balance: {self.balance}\"\n",
        "\n",
        "account_a = BankAccount(\"A123\", \"Alice\", 1000)\n",
        "account_b = BankAccount(\"B456\", \"Bob\", 500)\n",
        "\n",
        "account_a.deposit(200)\n",
        "account_a.transfer(300, account_b)\n",
        "account_a.check_balance()\n",
        "account_b.check_balance()\n",
        "\n",
        "print(account_a)\n",
        "print(account_b)"
      ]
    },
    {
      "cell_type": "markdown",
      "metadata": {
        "id": "R9op0Bt0xttt"
      },
      "source": [
        "### 4. Exception Handling\n",
        "\n",
        "*Task*:\n",
        "\n",
        "* Write a divide_numbers(a, b) function with exception handling:\n",
        "\n",
        "  * Handle division by zero and invalid input (non-numeric values).\n",
        "\n",
        "\n",
        "# Test the function\n",
        "print(divide_numbers(10, 2))   # Valid input\n",
        "\n",
        "print(divide_numbers(10, 0))   # Division by zero\n",
        "\n",
        "print(divide_numbers(\"ten\", 2))  # Invalid input"
      ]
    },
    {
      "cell_type": "code",
      "execution_count": null,
      "metadata": {
        "colab": {
          "base_uri": "https://localhost:8080/"
        },
        "id": "DEZfXk4V0A8_",
        "outputId": "1b345b50-8218-48dc-9715-5a6e0cdc8d54"
      },
      "outputs": [
        {
          "name": "stdout",
          "output_type": "stream",
          "text": [
            "5.0\n",
            "Cannot divide by zero\n",
            "Invalid input, please enter numbers\n"
          ]
        }
      ],
      "source": [
        "def divide_numbers(a, b):\n",
        "  try:\n",
        "    result = float(a) / float(b)\n",
        "    return result\n",
        "  except ZeroDivisionError:\n",
        "    return \"Cannot divide by zero\"\n",
        "  except ValueError:\n",
        "    return \"Invalid input, please enter numbers\"\n",
        "\n",
        "print(divide_numbers(10, 2))\n",
        "print(divide_numbers(10, 0))\n",
        "print(divide_numbers(\"ten\", 2))"
      ]
    },
    {
      "cell_type": "markdown",
      "metadata": {
        "id": "UAfaux4e0LsB"
      },
      "source": [
        "*Example Expected Output*:\n",
        "\n",
        "\n",
        "5.0\n",
        "\n",
        "Cannot divide by zero\n",
        "\n",
        "Invalid input, please enter numbers"
      ]
    },
    {
      "cell_type": "markdown",
      "metadata": {
        "id": "_zo-t7xZ0ayU"
      },
      "source": [
        "### 5. Python Modules & File Handling\n",
        "\n",
        "*Task*:\n",
        "\n",
        "* Write a Python program to:\n",
        "\n",
        "  * Create a text file \"students.txt\" with student names and marks.\n",
        "  * Read the file and print names of students with marks above 80.\n",
        "\n",
        "\n",
        "\n",
        "\n"
      ]
    },
    {
      "cell_type": "code",
      "execution_count": null,
      "metadata": {
        "colab": {
          "base_uri": "https://localhost:8080/"
        },
        "id": "kp3PLXuv0_cU",
        "outputId": "8a8ae8dc-2f32-4cdf-839b-eea49b1ae63c"
      },
      "outputs": [
        {
          "name": "stdout",
          "output_type": "stream",
          "text": [
            "Created students.txt with data.\n",
            "\n",
            "Students with marks above 80:\n",
            "Alice\n",
            "Bob\n",
            "David\n",
            "Frank\n",
            "Grace\n"
          ]
        }
      ],
      "source": [
        "# Create the students.txt file and write data\n",
        "file_content = \"\"\"Alice,95\n",
        "Bob,88\n",
        "Charlie, 75\n",
        "David,92\n",
        "Eve,79\n",
        "Frank,81\n",
        "Grace,90\"\"\"\n",
        "\n",
        "with open(\"students.txt\", \"w\") as f:\n",
        "    f.write(file_content)\n",
        "\n",
        "print(\"Created students.txt with data.\")\n",
        "\n",
        "# Read the file and print names of students with marks above 80\n",
        "print(\"\\nStudents with marks above 80:\")\n",
        "with open(\"students.txt\", \"r\") as f:\n",
        "    for line in f:\n",
        "        name, marks_str = line.strip().split(',')\n",
        "        try:\n",
        "            marks = int(marks_str)\n",
        "            if marks > 80:\n",
        "                print(name)\n",
        "        except ValueError:\n",
        "            print(f\"Skipping invalid line: {line.strip()}\")"
      ]
    },
    {
      "cell_type": "markdown",
      "metadata": {
        "id": "BGTgVTJZ0_7b"
      },
      "source": [
        "\n",
        "*Expected Output*:\n",
        "\n",
        "\n",
        "Alice\n",
        "\n",
        "Bob\n",
        "\n",
        "David\n"
      ]
    },
    {
      "cell_type": "markdown",
      "metadata": {
        "id": "buuDAsX_2ZEg"
      },
      "source": [
        "### 6. Regular Expressions\n",
        "\n",
        "*Task*:\n",
        "\n",
        "* Write a Python function extract_phone_numbers(text) that extracts all phone numbers from a given text. The phone numbers should be in the format (xxx) xxx-xxxx.\n",
        "\n",
        "\n",
        "sample_text = (\n",
        "    \"For any support regarding our Bangalore office, call us at +91-9876543210 between 9 AM to 6 PM. \"\n",
        "    \"If you are located in Mumbai, you can also reach our helpdesk at 9123456789 for urgent assistance. \"\n",
        "    \"Additionally, our Delhi branch can be contacted at +91-9988776655 during weekdays.\"\n",
        ")\n",
        "\n",
        "\n",
        "\n",
        "\n",
        "*Expected Output*:\n",
        "\n",
        "\n",
        "['+91-9876543210', '+91-9988776655']\n"
      ]
    },
    {
      "cell_type": "code",
      "execution_count": 1,
      "metadata": {
        "colab": {
          "base_uri": "https://localhost:8080/"
        },
        "id": "Nx0oXsT92Ytu",
        "outputId": "9d261c34-cf30-4f2f-d3b9-5ffb800b60d8"
      },
      "outputs": [
        {
          "output_type": "stream",
          "name": "stdout",
          "text": [
            "['+91-9876543210', '+91-9988776655']\n"
          ]
        }
      ],
      "source": [
        "import re\n",
        "\n",
        "def extract_phone_numbers(text):\n",
        "  # This regex matches phone numbers in the format (xxx) xxx-xxxx,\n",
        "  # or +91-xxxxxxxxxx as in the sample text.\n",
        "  # I will adjust it to match the format in the sample text.\n",
        "  pattern = r'\\+\\d{2}-\\d{10}'\n",
        "  phone_numbers = re.findall(pattern, text)\n",
        "  return phone_numbers\n",
        "\n",
        "sample_text = (\n",
        "\"For any support regarding our Bangalore office, call us at +91-9876543210 between 9 AM to 6 PM. \"\n",
        "\"If you are located in Mumbai, you can also reach our helpdesk at 9123456789 for urgent assistance. \"\n",
        "\"Additionally, our Delhi branch can be contacted at +91-9988776655 during weekdays.\"\n",
        ")\n",
        "\n",
        "extracted_numbers = extract_phone_numbers(sample_text)\n",
        "print(extracted_numbers)"
      ]
    },
    {
      "cell_type": "markdown",
      "metadata": {
        "id": "6uPEN50JQ4IP"
      },
      "source": [
        "\n",
        "*Expected Output*:\n",
        "\n",
        "\n",
        "['+91-9876543210', '+91-9988776655']"
      ]
    }
  ],
  "metadata": {
    "colab": {
      "provenance": [],
      "include_colab_link": true
    },
    "kernelspec": {
      "display_name": "Python 3",
      "name": "python3"
    },
    "language_info": {
      "name": "python"
    }
  },
  "nbformat": 4,
  "nbformat_minor": 0
}